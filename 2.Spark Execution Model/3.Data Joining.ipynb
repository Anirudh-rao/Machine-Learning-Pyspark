{
 "cells": [
  {
   "cell_type": "code",
   "execution_count": 0,
   "metadata": {
    "application/vnd.databricks.v1+cell": {
     "cellMetadata": {
      "byteLimit": 2048000,
      "rowLimit": 10000
     },
     "inputWidgets": {},
     "nuid": "e976eb60-5bb7-4134-88be-3082503ad5ce",
     "showTitle": false,
     "tableResultSettingsMap": {},
     "title": ""
    }
   },
   "outputs": [],
   "source": [
    "import pyspark\n",
    "from pyspark.sql import SparkSession\n",
    "# Create a Spark session\n",
    "spark = SparkSession.builder.appName(\"Data Joining\").getOrCreate()"
   ]
  },
  {
   "cell_type": "code",
   "execution_count": 0,
   "metadata": {
    "application/vnd.databricks.v1+cell": {
     "cellMetadata": {
      "byteLimit": 2048000,
      "rowLimit": 10000
     },
     "inputWidgets": {},
     "nuid": "f15e4a15-f0a7-4af7-a3a4-b304baa57453",
     "showTitle": false,
     "tableResultSettingsMap": {},
     "title": ""
    }
   },
   "outputs": [
    {
     "output_type": "stream",
     "name": "stdout",
     "output_type": "stream",
     "text": [
      "+--------+-----------+------+\n|order_id|customer_id|amount|\n+--------+-----------+------+\n|    1001|          1|   100|\n|    1002|          2|   200|\n|    1003|          3|   300|\n|    1004|          1|   200|\n|    1005|          6|   200|\n+--------+-----------+------+\n\n"
     ]
    }
   ],
   "source": [
    "df_left = spark.createDataFrame([(1001,1,100),(1002,2,200), \n",
    "(1003,3,300),(1004,1,200),(1005,6,200)],[\"order_id\",\"customer_id\",\"amount\"])\n",
    "df_left.show()"
   ]
  },
  {
   "cell_type": "code",
   "execution_count": 0,
   "metadata": {
    "application/vnd.databricks.v1+cell": {
     "cellMetadata": {
      "byteLimit": 2048000,
      "rowLimit": 10000
     },
     "inputWidgets": {},
     "nuid": "4cde04fb-c127-4e7f-8450-004c53f35d3a",
     "showTitle": false,
     "tableResultSettingsMap": {},
     "title": ""
    }
   },
   "outputs": [
    {
     "output_type": "stream",
     "name": "stdout",
     "output_type": "stream",
     "text": [
      "+-----------+----+\n|customer_id|name|\n+-----------+----+\n|          1|john|\n|          2|mike|\n|          3|tony|\n|          4|kent|\n+-----------+----+\n\n"
     ]
    }
   ],
   "source": [
    "df_right = spark.createDataFrame([(1,\"john\"), \n",
    "(2,\"mike\"),(3,\"tony\"),(4,\"kent\")],[\"customer_id\",\"name\"])\n",
    "df_right.show()"
   ]
  },
  {
   "cell_type": "code",
   "execution_count": 0,
   "metadata": {
    "application/vnd.databricks.v1+cell": {
     "cellMetadata": {
      "byteLimit": 2048000,
      "rowLimit": 10000
     },
     "inputWidgets": {},
     "nuid": "fa948a56-830d-4496-83cf-77b7e310e583",
     "showTitle": false,
     "tableResultSettingsMap": {},
     "title": ""
    }
   },
   "outputs": [
    {
     "output_type": "stream",
     "name": "stdout",
     "output_type": "stream",
     "text": [
      "+-----------+----+--------+------+\n|customer_id|name|order_id|amount|\n+-----------+----+--------+------+\n|          1|john|    1001|   100|\n|          1|john|    1004|   200|\n|          2|mike|    1002|   200|\n|          3|tony|    1003|   300|\n+-----------+----+--------+------+\n\n"
     ]
    }
   ],
   "source": [
    "df_right.join(df_left, on='customer_id',how=\"inner\").show()"
   ]
  },
  {
   "cell_type": "code",
   "execution_count": 0,
   "metadata": {
    "application/vnd.databricks.v1+cell": {
     "cellMetadata": {
      "byteLimit": 2048000,
      "rowLimit": 10000
     },
     "inputWidgets": {},
     "nuid": "3955cb49-edb5-4c13-b3c0-fc8e64ca9ea4",
     "showTitle": false,
     "tableResultSettingsMap": {},
     "title": ""
    }
   },
   "outputs": [
    {
     "output_type": "stream",
     "name": "stdout",
     "output_type": "stream",
     "text": [
      "+-----------+--------+------+----+\n|customer_id|order_id|amount|name|\n+-----------+--------+------+----+\n|          1|    1001|   100|john|\n|          2|    1002|   200|mike|\n|          3|    1003|   300|tony|\n|          1|    1004|   200|john|\n|          6|    1005|   200|NULL|\n+-----------+--------+------+----+\n\n+-----------+--------+------+----+\n|customer_id|order_id|amount|name|\n+-----------+--------+------+----+\n|          1|    1001|   100|john|\n|          2|    1002|   200|mike|\n|          3|    1003|   300|tony|\n|          1|    1004|   200|john|\n|          6|    1005|   200|NULL|\n+-----------+--------+------+----+\n\n+-----------+--------+------+----+\n|customer_id|order_id|amount|name|\n+-----------+--------+------+----+\n|          1|    1001|   100|john|\n|          2|    1002|   200|mike|\n|          3|    1003|   300|tony|\n|          1|    1004|   200|john|\n|          6|    1005|   200|NULL|\n+-----------+--------+------+----+\n\n"
     ]
    }
   ],
   "source": [
    "df_left.join(df_right,on=\"customer_id\",how=\"left\").show()\n",
    "df_left.join(df_right,on=\"customer_id\",how=\"left_outer\").show()\n",
    "df_left.join(df_right,on=\"customer_id\",how=\"leftouter\").show()"
   ]
  },
  {
   "cell_type": "code",
   "execution_count": 0,
   "metadata": {
    "application/vnd.databricks.v1+cell": {
     "cellMetadata": {
      "byteLimit": 2048000,
      "rowLimit": 10000
     },
     "inputWidgets": {},
     "nuid": "f7932ffd-a46c-4904-bfe1-d065b356de14",
     "showTitle": false,
     "tableResultSettingsMap": {},
     "title": ""
    }
   },
   "outputs": [
    {
     "output_type": "stream",
     "name": "stdout",
     "output_type": "stream",
     "text": [
      "+-----------+--------+------+----+\n|customer_id|order_id|amount|name|\n+-----------+--------+------+----+\n|          1|    1001|   100|john|\n|          1|    1004|   200|john|\n|          2|    1002|   200|mike|\n|          3|    1003|   300|tony|\n|          4|    NULL|  NULL|kent|\n|          6|    1005|   200|NULL|\n+-----------+--------+------+----+\n\n+-----------+--------+------+----+\n|customer_id|order_id|amount|name|\n+-----------+--------+------+----+\n|          1|    1001|   100|john|\n|          1|    1004|   200|john|\n|          2|    1002|   200|mike|\n|          3|    1003|   300|tony|\n|          4|    NULL|  NULL|kent|\n|          6|    1005|   200|NULL|\n+-----------+--------+------+----+\n\n+-----------+--------+------+----+\n|customer_id|order_id|amount|name|\n+-----------+--------+------+----+\n|          1|    1001|   100|john|\n|          1|    1004|   200|john|\n|          2|    1002|   200|mike|\n|          3|    1003|   300|tony|\n|          4|    NULL|  NULL|kent|\n|          6|    1005|   200|NULL|\n+-----------+--------+------+----+\n\n"
     ]
    }
   ],
   "source": [
    "df_left.join(df_right,on=\"customer_id\",how=\"full\").show()\n",
    "df_left.join(df_right,on=\"customer_id\",how=\"fullouter\").show()\n",
    "df_left.join(df_right,on=\"customer_id\",how=\"full_outer\").show()"
   ]
  },
  {
   "cell_type": "code",
   "execution_count": 0,
   "metadata": {
    "application/vnd.databricks.v1+cell": {
     "cellMetadata": {
      "byteLimit": 2048000,
      "rowLimit": 10000
     },
     "inputWidgets": {},
     "nuid": "2f386c18-d8bc-460e-9b6e-a46cd37caed9",
     "showTitle": false,
     "tableResultSettingsMap": {},
     "title": ""
    }
   },
   "outputs": [
    {
     "output_type": "stream",
     "name": "stdout",
     "output_type": "stream",
     "text": [
      "+--------+-----------+------+-----------+----+\n|order_id|customer_id|amount|customer_id|name|\n+--------+-----------+------+-----------+----+\n|    1001|          1|   100|          1|john|\n|    1001|          1|   100|          2|mike|\n|    1001|          1|   100|          3|tony|\n|    1001|          1|   100|          4|kent|\n|    1002|          2|   200|          1|john|\n|    1002|          2|   200|          2|mike|\n|    1002|          2|   200|          3|tony|\n|    1002|          2|   200|          4|kent|\n|    1003|          3|   300|          1|john|\n|    1003|          3|   300|          2|mike|\n|    1003|          3|   300|          3|tony|\n|    1003|          3|   300|          4|kent|\n|    1004|          1|   200|          1|john|\n|    1004|          1|   200|          2|mike|\n|    1004|          1|   200|          3|tony|\n|    1004|          1|   200|          4|kent|\n|    1005|          6|   200|          1|john|\n|    1005|          6|   200|          2|mike|\n|    1005|          6|   200|          3|tony|\n|    1005|          6|   200|          4|kent|\n+--------+-----------+------+-----------+----+\n\n"
     ]
    }
   ],
   "source": [
    "spark.conf.set(\"spark.sql.crossJoin.enabled\", \"true\")\n",
    "df_left.crossJoin(df_right).show()"
   ]
  },
  {
   "cell_type": "code",
   "execution_count": 0,
   "metadata": {
    "application/vnd.databricks.v1+cell": {
     "cellMetadata": {
      "byteLimit": 2048000,
      "rowLimit": 10000
     },
     "inputWidgets": {},
     "nuid": "6b6b34fd-1f41-431e-ba0f-946ca9865cac",
     "showTitle": false,
     "tableResultSettingsMap": {},
     "title": ""
    }
   },
   "outputs": [
    {
     "output_type": "stream",
     "name": "stdout",
     "output_type": "stream",
     "text": [
      "+-----------+--------+------+\n|customer_id|order_id|amount|\n+-----------+--------+------+\n|          1|    1001|   100|\n|          1|    1004|   200|\n|          2|    1002|   200|\n|          3|    1003|   300|\n+-----------+--------+------+\n\n"
     ]
    }
   ],
   "source": [
    "df_left.join(df_right,on=\"customer_id\",how=\"semi\").show()\n"
   ]
  },
  {
   "cell_type": "code",
   "execution_count": 0,
   "metadata": {
    "application/vnd.databricks.v1+cell": {
     "cellMetadata": {
      "byteLimit": 2048000,
      "rowLimit": 10000
     },
     "inputWidgets": {},
     "nuid": "03e78ca5-9f01-45b2-ba60-7e4523df07e2",
     "showTitle": false,
     "tableResultSettingsMap": {},
     "title": ""
    }
   },
   "outputs": [
    {
     "output_type": "stream",
     "name": "stdout",
     "output_type": "stream",
     "text": [
      "+-----------+--------+------+\n|customer_id|order_id|amount|\n+-----------+--------+------+\n|          1|    1001|   100|\n|          1|    1004|   200|\n|          2|    1002|   200|\n|          3|    1003|   300|\n+-----------+--------+------+\n\n"
     ]
    }
   ],
   "source": [
    "df_left.join(df_right,on=\"customer_id\",how=\"leftsemi\").show()\n"
   ]
  },
  {
   "cell_type": "code",
   "execution_count": 0,
   "metadata": {
    "application/vnd.databricks.v1+cell": {
     "cellMetadata": {
      "byteLimit": 2048000,
      "rowLimit": 10000
     },
     "inputWidgets": {},
     "nuid": "3b438aa3-7481-4953-9f88-6442da18a71e",
     "showTitle": false,
     "tableResultSettingsMap": {},
     "title": ""
    }
   },
   "outputs": [
    {
     "output_type": "stream",
     "name": "stdout",
     "output_type": "stream",
     "text": [
      "+-----------+--------+------+\n|customer_id|order_id|amount|\n+-----------+--------+------+\n|          1|    1001|   100|\n|          1|    1004|   200|\n|          2|    1002|   200|\n|          3|    1003|   300|\n+-----------+--------+------+\n\n"
     ]
    }
   ],
   "source": [
    "df_left.join(df_right,on=\"customer_id\",how=\"left_semi\").show()\n"
   ]
  },
  {
   "cell_type": "code",
   "execution_count": 0,
   "metadata": {
    "application/vnd.databricks.v1+cell": {
     "cellMetadata": {
      "byteLimit": 2048000,
      "rowLimit": 10000
     },
     "inputWidgets": {},
     "nuid": "89b4169d-64bb-4a64-bc16-8831a630a094",
     "showTitle": false,
     "tableResultSettingsMap": {},
     "title": ""
    }
   },
   "outputs": [
    {
     "output_type": "stream",
     "name": "stdout",
     "output_type": "stream",
     "text": [
      "+-----------+--------+------+\n|customer_id|order_id|amount|\n+-----------+--------+------+\n|          6|    1005|   200|\n+-----------+--------+------+\n\n+-----------+--------+------+\n|customer_id|order_id|amount|\n+-----------+--------+------+\n|          6|    1005|   200|\n+-----------+--------+------+\n\n+-----------+--------+------+\n|customer_id|order_id|amount|\n+-----------+--------+------+\n|          6|    1005|   200|\n+-----------+--------+------+\n\n"
     ]
    }
   ],
   "source": [
    "df_left.join(df_right,on=\"customer_id\",how=\"anti\").show()\n",
    "df_left.join(df_right,on=\"customer_id\",how=\"leftanti\").show()\n",
    "df_left.join(df_right,on=\"customer_id\",how=\"left_anti\").show()"
   ]
  }
 ],
 "metadata": {
  "application/vnd.databricks.v1+notebook": {
   "computePreferences": null,
   "dashboards": [],
   "environmentMetadata": {
    "base_environment": "",
    "environment_version": "1"
   },
   "inputWidgetPreferences": null,
   "language": "python",
   "notebookMetadata": {
    "pythonIndentUnit": 4
   },
   "notebookName": "Data Joining",
   "widgets": {}
  }
 },
 "nbformat": 4,
 "nbformat_minor": 0
}